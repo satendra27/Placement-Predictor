{
 "cells": [
  {
   "cell_type": "code",
   "execution_count": 3,
   "id": "5828f4e9",
   "metadata": {},
   "outputs": [],
   "source": [
    "import pandas as pd\n",
    "import numpy as np"
   ]
  },
  {
   "cell_type": "code",
   "execution_count": 4,
   "id": "8c68e3f9",
   "metadata": {},
   "outputs": [
    {
     "data": {
      "text/html": [
       "<div>\n",
       "<style scoped>\n",
       "    .dataframe tbody tr th:only-of-type {\n",
       "        vertical-align: middle;\n",
       "    }\n",
       "\n",
       "    .dataframe tbody tr th {\n",
       "        vertical-align: top;\n",
       "    }\n",
       "\n",
       "    .dataframe thead th {\n",
       "        text-align: right;\n",
       "    }\n",
       "</style>\n",
       "<table border=\"1\" class=\"dataframe\">\n",
       "  <thead>\n",
       "    <tr style=\"text-align: right;\">\n",
       "      <th></th>\n",
       "      <th>cgpa</th>\n",
       "      <th>resume_score</th>\n",
       "      <th>placed</th>\n",
       "    </tr>\n",
       "  </thead>\n",
       "  <tbody>\n",
       "    <tr>\n",
       "      <th>0</th>\n",
       "      <td>8.14</td>\n",
       "      <td>6.52</td>\n",
       "      <td>1</td>\n",
       "    </tr>\n",
       "    <tr>\n",
       "      <th>1</th>\n",
       "      <td>6.17</td>\n",
       "      <td>5.17</td>\n",
       "      <td>0</td>\n",
       "    </tr>\n",
       "    <tr>\n",
       "      <th>2</th>\n",
       "      <td>8.27</td>\n",
       "      <td>8.86</td>\n",
       "      <td>1</td>\n",
       "    </tr>\n",
       "    <tr>\n",
       "      <th>3</th>\n",
       "      <td>6.88</td>\n",
       "      <td>7.27</td>\n",
       "      <td>1</td>\n",
       "    </tr>\n",
       "    <tr>\n",
       "      <th>4</th>\n",
       "      <td>7.52</td>\n",
       "      <td>7.30</td>\n",
       "      <td>1</td>\n",
       "    </tr>\n",
       "  </tbody>\n",
       "</table>\n",
       "</div>"
      ],
      "text/plain": [
       "   cgpa  resume_score  placed\n",
       "0  8.14          6.52       1\n",
       "1  6.17          5.17       0\n",
       "2  8.27          8.86       1\n",
       "3  6.88          7.27       1\n",
       "4  7.52          7.30       1"
      ]
     },
     "execution_count": 4,
     "metadata": {},
     "output_type": "execute_result"
    }
   ],
   "source": [
    "df = pd.read_csv(\"placement.csv\")\n",
    "df.head()"
   ]
  },
  {
   "cell_type": "code",
   "execution_count": 8,
   "id": "01302d25",
   "metadata": {},
   "outputs": [
    {
     "data": {
      "text/html": [
       "<div>\n",
       "<style scoped>\n",
       "    .dataframe tbody tr th:only-of-type {\n",
       "        vertical-align: middle;\n",
       "    }\n",
       "\n",
       "    .dataframe tbody tr th {\n",
       "        vertical-align: top;\n",
       "    }\n",
       "\n",
       "    .dataframe thead th {\n",
       "        text-align: right;\n",
       "    }\n",
       "</style>\n",
       "<table border=\"1\" class=\"dataframe\">\n",
       "  <thead>\n",
       "    <tr style=\"text-align: right;\">\n",
       "      <th></th>\n",
       "      <th>cgpa</th>\n",
       "      <th>resume_score</th>\n",
       "      <th>placed</th>\n",
       "    </tr>\n",
       "  </thead>\n",
       "  <tbody>\n",
       "    <tr>\n",
       "      <th>76</th>\n",
       "      <td>9.40</td>\n",
       "      <td>5.50</td>\n",
       "      <td>1</td>\n",
       "    </tr>\n",
       "    <tr>\n",
       "      <th>13</th>\n",
       "      <td>8.50</td>\n",
       "      <td>5.09</td>\n",
       "      <td>1</td>\n",
       "    </tr>\n",
       "    <tr>\n",
       "      <th>69</th>\n",
       "      <td>8.06</td>\n",
       "      <td>9.06</td>\n",
       "      <td>1</td>\n",
       "    </tr>\n",
       "    <tr>\n",
       "      <th>55</th>\n",
       "      <td>6.94</td>\n",
       "      <td>6.87</td>\n",
       "      <td>1</td>\n",
       "    </tr>\n",
       "    <tr>\n",
       "      <th>4</th>\n",
       "      <td>7.52</td>\n",
       "      <td>7.30</td>\n",
       "      <td>1</td>\n",
       "    </tr>\n",
       "  </tbody>\n",
       "</table>\n",
       "</div>"
      ],
      "text/plain": [
       "    cgpa  resume_score  placed\n",
       "76  9.40          5.50       1\n",
       "13  8.50          5.09       1\n",
       "69  8.06          9.06       1\n",
       "55  6.94          6.87       1\n",
       "4   7.52          7.30       1"
      ]
     },
     "execution_count": 8,
     "metadata": {},
     "output_type": "execute_result"
    }
   ],
   "source": [
    "df.sample(5)"
   ]
  },
  {
   "cell_type": "code",
   "execution_count": 3,
   "id": "8d8ffa35",
   "metadata": {},
   "outputs": [
    {
     "data": {
      "text/plain": [
       "cgpa            0\n",
       "resume_score    0\n",
       "placed          0\n",
       "dtype: int64"
      ]
     },
     "execution_count": 3,
     "metadata": {},
     "output_type": "execute_result"
    }
   ],
   "source": [
    "df.isnull().sum()"
   ]
  },
  {
   "cell_type": "code",
   "execution_count": 4,
   "id": "dc178e8b",
   "metadata": {},
   "outputs": [],
   "source": [
    "x = df.drop(columns=[\"placed\"])\n",
    "y = df[\"placed\"]"
   ]
  },
  {
   "cell_type": "code",
   "execution_count": 5,
   "id": "e13241a5",
   "metadata": {},
   "outputs": [],
   "source": [
    "from sklearn.model_selection import train_test_split"
   ]
  },
  {
   "cell_type": "code",
   "execution_count": 6,
   "id": "86028d03",
   "metadata": {},
   "outputs": [],
   "source": [
    "x_train,x_test,y_train,y_test = train_test_split(x,y,test_size=0.2,random_state = 42)"
   ]
  },
  {
   "cell_type": "code",
   "execution_count": 7,
   "id": "72ba4fc0",
   "metadata": {},
   "outputs": [],
   "source": [
    "from sklearn.linear_model import LogisticRegression"
   ]
  },
  {
   "cell_type": "code",
   "execution_count": 8,
   "id": "58ef4909",
   "metadata": {},
   "outputs": [
    {
     "data": {
      "text/html": [
       "<style>#sk-container-id-1 {color: black;}#sk-container-id-1 pre{padding: 0;}#sk-container-id-1 div.sk-toggleable {background-color: white;}#sk-container-id-1 label.sk-toggleable__label {cursor: pointer;display: block;width: 100%;margin-bottom: 0;padding: 0.3em;box-sizing: border-box;text-align: center;}#sk-container-id-1 label.sk-toggleable__label-arrow:before {content: \"▸\";float: left;margin-right: 0.25em;color: #696969;}#sk-container-id-1 label.sk-toggleable__label-arrow:hover:before {color: black;}#sk-container-id-1 div.sk-estimator:hover label.sk-toggleable__label-arrow:before {color: black;}#sk-container-id-1 div.sk-toggleable__content {max-height: 0;max-width: 0;overflow: hidden;text-align: left;background-color: #f0f8ff;}#sk-container-id-1 div.sk-toggleable__content pre {margin: 0.2em;color: black;border-radius: 0.25em;background-color: #f0f8ff;}#sk-container-id-1 input.sk-toggleable__control:checked~div.sk-toggleable__content {max-height: 200px;max-width: 100%;overflow: auto;}#sk-container-id-1 input.sk-toggleable__control:checked~label.sk-toggleable__label-arrow:before {content: \"▾\";}#sk-container-id-1 div.sk-estimator input.sk-toggleable__control:checked~label.sk-toggleable__label {background-color: #d4ebff;}#sk-container-id-1 div.sk-label input.sk-toggleable__control:checked~label.sk-toggleable__label {background-color: #d4ebff;}#sk-container-id-1 input.sk-hidden--visually {border: 0;clip: rect(1px 1px 1px 1px);clip: rect(1px, 1px, 1px, 1px);height: 1px;margin: -1px;overflow: hidden;padding: 0;position: absolute;width: 1px;}#sk-container-id-1 div.sk-estimator {font-family: monospace;background-color: #f0f8ff;border: 1px dotted black;border-radius: 0.25em;box-sizing: border-box;margin-bottom: 0.5em;}#sk-container-id-1 div.sk-estimator:hover {background-color: #d4ebff;}#sk-container-id-1 div.sk-parallel-item::after {content: \"\";width: 100%;border-bottom: 1px solid gray;flex-grow: 1;}#sk-container-id-1 div.sk-label:hover label.sk-toggleable__label {background-color: #d4ebff;}#sk-container-id-1 div.sk-serial::before {content: \"\";position: absolute;border-left: 1px solid gray;box-sizing: border-box;top: 0;bottom: 0;left: 50%;z-index: 0;}#sk-container-id-1 div.sk-serial {display: flex;flex-direction: column;align-items: center;background-color: white;padding-right: 0.2em;padding-left: 0.2em;position: relative;}#sk-container-id-1 div.sk-item {position: relative;z-index: 1;}#sk-container-id-1 div.sk-parallel {display: flex;align-items: stretch;justify-content: center;background-color: white;position: relative;}#sk-container-id-1 div.sk-item::before, #sk-container-id-1 div.sk-parallel-item::before {content: \"\";position: absolute;border-left: 1px solid gray;box-sizing: border-box;top: 0;bottom: 0;left: 50%;z-index: -1;}#sk-container-id-1 div.sk-parallel-item {display: flex;flex-direction: column;z-index: 1;position: relative;background-color: white;}#sk-container-id-1 div.sk-parallel-item:first-child::after {align-self: flex-end;width: 50%;}#sk-container-id-1 div.sk-parallel-item:last-child::after {align-self: flex-start;width: 50%;}#sk-container-id-1 div.sk-parallel-item:only-child::after {width: 0;}#sk-container-id-1 div.sk-dashed-wrapped {border: 1px dashed gray;margin: 0 0.4em 0.5em 0.4em;box-sizing: border-box;padding-bottom: 0.4em;background-color: white;}#sk-container-id-1 div.sk-label label {font-family: monospace;font-weight: bold;display: inline-block;line-height: 1.2em;}#sk-container-id-1 div.sk-label-container {text-align: center;}#sk-container-id-1 div.sk-container {/* jupyter's `normalize.less` sets `[hidden] { display: none; }` but bootstrap.min.css set `[hidden] { display: none !important; }` so we also need the `!important` here to be able to override the default hidden behavior on the sphinx rendered scikit-learn.org. See: https://github.com/scikit-learn/scikit-learn/issues/21755 */display: inline-block !important;position: relative;}#sk-container-id-1 div.sk-text-repr-fallback {display: none;}</style><div id=\"sk-container-id-1\" class=\"sk-top-container\"><div class=\"sk-text-repr-fallback\"><pre>LogisticRegression()</pre><b>In a Jupyter environment, please rerun this cell to show the HTML representation or trust the notebook. <br />On GitHub, the HTML representation is unable to render, please try loading this page with nbviewer.org.</b></div><div class=\"sk-container\" hidden><div class=\"sk-item\"><div class=\"sk-estimator sk-toggleable\"><input class=\"sk-toggleable__control sk-hidden--visually\" id=\"sk-estimator-id-1\" type=\"checkbox\" checked><label for=\"sk-estimator-id-1\" class=\"sk-toggleable__label sk-toggleable__label-arrow\">LogisticRegression</label><div class=\"sk-toggleable__content\"><pre>LogisticRegression()</pre></div></div></div></div></div>"
      ],
      "text/plain": [
       "LogisticRegression()"
      ]
     },
     "execution_count": 8,
     "metadata": {},
     "output_type": "execute_result"
    }
   ],
   "source": [
    "lr = LogisticRegression()\n",
    "lr.fit(x_train,y_train)"
   ]
  },
  {
   "cell_type": "code",
   "execution_count": 9,
   "id": "2cc90aa1",
   "metadata": {},
   "outputs": [],
   "source": [
    "y_pred = lr.predict(x_test)"
   ]
  },
  {
   "cell_type": "code",
   "execution_count": 10,
   "id": "c31d5f79",
   "metadata": {},
   "outputs": [],
   "source": [
    "from sklearn.metrics import accuracy_score"
   ]
  },
  {
   "cell_type": "code",
   "execution_count": 11,
   "id": "ff39ecbf",
   "metadata": {},
   "outputs": [
    {
     "data": {
      "text/plain": [
       "1.0"
      ]
     },
     "execution_count": 11,
     "metadata": {},
     "output_type": "execute_result"
    }
   ],
   "source": [
    "accuracy_score(y_test,y_pred)"
   ]
  },
  {
   "cell_type": "code",
   "execution_count": 12,
   "id": "a67da3d9",
   "metadata": {},
   "outputs": [
    {
     "name": "stderr",
     "output_type": "stream",
     "text": [
      "C:\\Users\\krishna computers\\anaconda\\Lib\\site-packages\\sklearn\\base.py:464: UserWarning: X does not have valid feature names, but LogisticRegression was fitted with feature names\n",
      "  warnings.warn(\n"
     ]
    },
    {
     "data": {
      "text/plain": [
       "array([1], dtype=int64)"
      ]
     },
     "execution_count": 12,
     "metadata": {},
     "output_type": "execute_result"
    }
   ],
   "source": [
    "lr.predict([[8.14,6.52]])"
   ]
  },
  {
   "cell_type": "code",
   "execution_count": 1,
   "id": "bc71fe06",
   "metadata": {},
   "outputs": [
    {
     "ename": "NameError",
     "evalue": "name 'lr' is not defined",
     "output_type": "error",
     "traceback": [
      "\u001b[1;31m---------------------------------------------------------------------------\u001b[0m",
      "\u001b[1;31mNameError\u001b[0m                                 Traceback (most recent call last)",
      "Cell \u001b[1;32mIn[1], line 2\u001b[0m\n\u001b[0;32m      1\u001b[0m \u001b[38;5;28;01mimport\u001b[39;00m \u001b[38;5;21;01mpickle\u001b[39;00m\n\u001b[1;32m----> 2\u001b[0m pickle\u001b[38;5;241m.\u001b[39mdump(lr,\u001b[38;5;28mopen\u001b[39m(\u001b[38;5;124m'\u001b[39m\u001b[38;5;124mSocial_Network_Ads.pkl\u001b[39m\u001b[38;5;124m'\u001b[39m,\u001b[38;5;124m'\u001b[39m\u001b[38;5;124mwb\u001b[39m\u001b[38;5;124m'\u001b[39m))\n",
      "\u001b[1;31mNameError\u001b[0m: name 'lr' is not defined"
     ]
    }
   ],
   "source": [
    "import pickle\n",
    "pickle.dump(lr,open('model.pkl','wb'))"
   ]
  },
  {
   "cell_type": "code",
   "execution_count": 14,
   "id": "347a85cb",
   "metadata": {},
   "outputs": [
    {
     "name": "stdout",
     "output_type": "stream",
     "text": [
      "Requirement already satisfied: watchdog in c:\\users\\krishna computers\\anaconda\\lib\\site-packages (2.1.6)\n",
      "Note: you may need to restart the kernel to use updated packages.\n"
     ]
    }
   ],
   "source": [
    "pip install watchdog"
   ]
  },
  {
   "cell_type": "code",
   "execution_count": 20,
   "id": "7b8c24aa",
   "metadata": {},
   "outputs": [
    {
     "name": "stdout",
     "output_type": "stream",
     "text": [
      " * Serving Flask app '__main__'\n",
      " * Debug mode: on\n"
     ]
    },
    {
     "name": "stderr",
     "output_type": "stream",
     "text": [
      "WARNING: This is a development server. Do not use it in a production deployment. Use a production WSGI server instead.\n",
      " * Running on http://127.0.0.1:5000\n",
      "Press CTRL+C to quit\n"
     ]
    },
    {
     "ename": "ImportError",
     "evalue": "cannot import name 'EVENT_TYPE_OPENED' from 'watchdog.events' (C:\\Users\\krishna computers\\anaconda\\Lib\\site-packages\\watchdog\\events.py)",
     "output_type": "error",
     "traceback": [
      "\u001b[1;31m---------------------------------------------------------------------------\u001b[0m",
      "\u001b[1;31mImportError\u001b[0m                               Traceback (most recent call last)",
      "Cell \u001b[1;32mIn[20], line 25\u001b[0m\n\u001b[0;32m     23\u001b[0m     \u001b[38;5;28;01mreturn\u001b[39;00m render_template(\u001b[38;5;124m'\u001b[39m\u001b[38;5;124mindex.html\u001b[39m\u001b[38;5;124m'\u001b[39m,result\u001b[38;5;241m=\u001b[39mresult)\n\u001b[0;32m     24\u001b[0m \u001b[38;5;28;01mif\u001b[39;00m \u001b[38;5;18m__name__\u001b[39m \u001b[38;5;241m==\u001b[39m \u001b[38;5;124m\"\u001b[39m\u001b[38;5;124m__main__\u001b[39m\u001b[38;5;124m\"\u001b[39m:\n\u001b[1;32m---> 25\u001b[0m     app\u001b[38;5;241m.\u001b[39mrun(debug\u001b[38;5;241m=\u001b[39m\u001b[38;5;28;01mTrue\u001b[39;00m)\n",
      "File \u001b[1;32m~\\AppData\\Roaming\\Python\\Python311\\site-packages\\flask\\app.py:889\u001b[0m, in \u001b[0;36mFlask.run\u001b[1;34m(self, host, port, debug, load_dotenv, **options)\u001b[0m\n\u001b[0;32m    886\u001b[0m \u001b[38;5;28;01mfrom\u001b[39;00m \u001b[38;5;21;01mwerkzeug\u001b[39;00m\u001b[38;5;21;01m.\u001b[39;00m\u001b[38;5;21;01mserving\u001b[39;00m \u001b[38;5;28;01mimport\u001b[39;00m run_simple\n\u001b[0;32m    888\u001b[0m \u001b[38;5;28;01mtry\u001b[39;00m:\n\u001b[1;32m--> 889\u001b[0m     run_simple(t\u001b[38;5;241m.\u001b[39mcast(\u001b[38;5;28mstr\u001b[39m, host), port, \u001b[38;5;28mself\u001b[39m, \u001b[38;5;241m*\u001b[39m\u001b[38;5;241m*\u001b[39moptions)\n\u001b[0;32m    890\u001b[0m \u001b[38;5;28;01mfinally\u001b[39;00m:\n\u001b[0;32m    891\u001b[0m     \u001b[38;5;66;03m# reset the first request information if the development server\u001b[39;00m\n\u001b[0;32m    892\u001b[0m     \u001b[38;5;66;03m# reset normally.  This makes it possible to restart the server\u001b[39;00m\n\u001b[0;32m    893\u001b[0m     \u001b[38;5;66;03m# without reloader and that stuff from an interactive shell.\u001b[39;00m\n\u001b[0;32m    894\u001b[0m     \u001b[38;5;28mself\u001b[39m\u001b[38;5;241m.\u001b[39m_got_first_request \u001b[38;5;241m=\u001b[39m \u001b[38;5;28;01mFalse\u001b[39;00m\n",
      "File \u001b[1;32m~\\AppData\\Roaming\\Python\\Python311\\site-packages\\werkzeug\\serving.py:1097\u001b[0m, in \u001b[0;36mrun_simple\u001b[1;34m(hostname, port, application, use_reloader, use_debugger, use_evalex, extra_files, exclude_patterns, reloader_interval, reloader_type, threaded, processes, request_handler, static_files, passthrough_errors, ssl_context)\u001b[0m\n\u001b[0;32m   1094\u001b[0m \u001b[38;5;28;01mfrom\u001b[39;00m \u001b[38;5;21;01m.\u001b[39;00m\u001b[38;5;21;01m_reloader\u001b[39;00m \u001b[38;5;28;01mimport\u001b[39;00m run_with_reloader\n\u001b[0;32m   1096\u001b[0m \u001b[38;5;28;01mtry\u001b[39;00m:\n\u001b[1;32m-> 1097\u001b[0m     run_with_reloader(\n\u001b[0;32m   1098\u001b[0m         srv\u001b[38;5;241m.\u001b[39mserve_forever,\n\u001b[0;32m   1099\u001b[0m         extra_files\u001b[38;5;241m=\u001b[39mextra_files,\n\u001b[0;32m   1100\u001b[0m         exclude_patterns\u001b[38;5;241m=\u001b[39mexclude_patterns,\n\u001b[0;32m   1101\u001b[0m         interval\u001b[38;5;241m=\u001b[39mreloader_interval,\n\u001b[0;32m   1102\u001b[0m         reloader_type\u001b[38;5;241m=\u001b[39mreloader_type,\n\u001b[0;32m   1103\u001b[0m     )\n\u001b[0;32m   1104\u001b[0m \u001b[38;5;28;01mfinally\u001b[39;00m:\n\u001b[0;32m   1105\u001b[0m     srv\u001b[38;5;241m.\u001b[39mserver_close()\n",
      "File \u001b[1;32m~\\AppData\\Roaming\\Python\\Python311\\site-packages\\werkzeug\\_reloader.py:440\u001b[0m, in \u001b[0;36mrun_with_reloader\u001b[1;34m(main_func, extra_files, exclude_patterns, interval, reloader_type)\u001b[0m\n\u001b[0;32m    437\u001b[0m \u001b[38;5;28;01mimport\u001b[39;00m \u001b[38;5;21;01msignal\u001b[39;00m\n\u001b[0;32m    439\u001b[0m signal\u001b[38;5;241m.\u001b[39msignal(signal\u001b[38;5;241m.\u001b[39mSIGTERM, \u001b[38;5;28;01mlambda\u001b[39;00m \u001b[38;5;241m*\u001b[39margs: sys\u001b[38;5;241m.\u001b[39mexit(\u001b[38;5;241m0\u001b[39m))\n\u001b[1;32m--> 440\u001b[0m reloader \u001b[38;5;241m=\u001b[39m reloader_loops[reloader_type](\n\u001b[0;32m    441\u001b[0m     extra_files\u001b[38;5;241m=\u001b[39mextra_files, exclude_patterns\u001b[38;5;241m=\u001b[39mexclude_patterns, interval\u001b[38;5;241m=\u001b[39minterval\n\u001b[0;32m    442\u001b[0m )\n\u001b[0;32m    444\u001b[0m \u001b[38;5;28;01mtry\u001b[39;00m:\n\u001b[0;32m    445\u001b[0m     \u001b[38;5;28;01mif\u001b[39;00m os\u001b[38;5;241m.\u001b[39menviron\u001b[38;5;241m.\u001b[39mget(\u001b[38;5;124m\"\u001b[39m\u001b[38;5;124mWERKZEUG_RUN_MAIN\u001b[39m\u001b[38;5;124m\"\u001b[39m) \u001b[38;5;241m==\u001b[39m \u001b[38;5;124m\"\u001b[39m\u001b[38;5;124mtrue\u001b[39m\u001b[38;5;124m\"\u001b[39m:\n",
      "File \u001b[1;32m~\\AppData\\Roaming\\Python\\Python311\\site-packages\\werkzeug\\_reloader.py:315\u001b[0m, in \u001b[0;36mWatchdogReloaderLoop.__init__\u001b[1;34m(self, *args, **kwargs)\u001b[0m\n\u001b[0;32m    313\u001b[0m \u001b[38;5;28;01mfrom\u001b[39;00m \u001b[38;5;21;01mwatchdog\u001b[39;00m\u001b[38;5;21;01m.\u001b[39;00m\u001b[38;5;21;01mobservers\u001b[39;00m \u001b[38;5;28;01mimport\u001b[39;00m Observer\n\u001b[0;32m    314\u001b[0m \u001b[38;5;28;01mfrom\u001b[39;00m \u001b[38;5;21;01mwatchdog\u001b[39;00m\u001b[38;5;21;01m.\u001b[39;00m\u001b[38;5;21;01mevents\u001b[39;00m \u001b[38;5;28;01mimport\u001b[39;00m PatternMatchingEventHandler\n\u001b[1;32m--> 315\u001b[0m \u001b[38;5;28;01mfrom\u001b[39;00m \u001b[38;5;21;01mwatchdog\u001b[39;00m\u001b[38;5;21;01m.\u001b[39;00m\u001b[38;5;21;01mevents\u001b[39;00m \u001b[38;5;28;01mimport\u001b[39;00m EVENT_TYPE_OPENED\n\u001b[0;32m    316\u001b[0m \u001b[38;5;28;01mfrom\u001b[39;00m \u001b[38;5;21;01mwatchdog\u001b[39;00m\u001b[38;5;21;01m.\u001b[39;00m\u001b[38;5;21;01mevents\u001b[39;00m \u001b[38;5;28;01mimport\u001b[39;00m FileModifiedEvent\n\u001b[0;32m    318\u001b[0m \u001b[38;5;28msuper\u001b[39m()\u001b[38;5;241m.\u001b[39m\u001b[38;5;21m__init__\u001b[39m(\u001b[38;5;241m*\u001b[39margs, \u001b[38;5;241m*\u001b[39m\u001b[38;5;241m*\u001b[39mkwargs)\n",
      "\u001b[1;31mImportError\u001b[0m: cannot import name 'EVENT_TYPE_OPENED' from 'watchdog.events' (C:\\Users\\krishna computers\\anaconda\\Lib\\site-packages\\watchdog\\events.py)"
     ]
    }
   ],
   "source": [
    "from flask import Flask,render_template\n",
    "import pickle\n",
    "import numpy as np\n",
    "# from watchdog.events import EVENT_TYPE_OPENED\n",
    "model = pickle.load(open('model.pkl','rb'))\n",
    "\n",
    "app = Flask(__name__)\n",
    "@app.route('/')\n",
    "def index():\n",
    "    return render_template('index.html')\n",
    "\n",
    "\n",
    "@app.route('/predict',methods=['post'])\n",
    "def predict_placement():\n",
    "    cgpa = float(request.form.get('cgpa'))\n",
    "    resume_score = request.form.get(\"resume_score\")\n",
    "\n",
    "    result = model.predict(np.array([cgpa,resume_score]).reshape(1,2))\n",
    "    if result[0] == 1:\n",
    "        result = \"placed\"\n",
    "    else:\n",
    "        result = \"not placed\"\n",
    "    return render_template('index.html',result=result)\n",
    "if __name__ == \"__main__\":\n",
    "    app.run(debug=True)"
   ]
  },
  {
   "cell_type": "code",
   "execution_count": null,
   "id": "cf76feae",
   "metadata": {},
   "outputs": [],
   "source": [
    "pip install watchdog"
   ]
  },
  {
   "cell_type": "code",
   "execution_count": 16,
   "id": "3543f4b4",
   "metadata": {},
   "outputs": [
    {
     "name": "stdout",
     "output_type": "stream",
     "text": [
      "Name: watchdogNote: you may need to restart the kernel to use updated packages.\n",
      "\n",
      "Version: 2.1.6\n",
      "Summary: Filesystem events monitoring\n",
      "Home-page: https://github.com/gorakhargosh/watchdog\n",
      "Author: Yesudeep Mangalapilly\n",
      "Author-email: yesudeep@gmail.com\n",
      "License: Apache License 2.0\n",
      "Location: C:\\Users\\krishna computers\\anaconda\\Lib\\site-packages\n",
      "Requires: \n",
      "Required-by: spyder\n"
     ]
    }
   ],
   "source": [
    "pip show watchdog"
   ]
  },
  {
   "cell_type": "code",
   "execution_count": 17,
   "id": "34d4b28c",
   "metadata": {},
   "outputs": [
    {
     "name": "stdout",
     "output_type": "stream",
     "text": [
      "Requirement already satisfied: watchdog in c:\\users\\krishna computers\\anaconda\\lib\\site-packages (2.1.6)\n",
      "Collecting watchdog\n",
      "  Obtaining dependency information for watchdog from https://files.pythonhosted.org/packages/85/e0/2a9f43008902427b5f074c497705d6ef8f815c85d4bc25fbf83f720a6159/watchdog-4.0.1-py3-none-win_amd64.whl.metadata\n",
      "  Downloading watchdog-4.0.1-py3-none-win_amd64.whl.metadata (37 kB)\n",
      "Downloading watchdog-4.0.1-py3-none-win_amd64.whl (83 kB)\n",
      "   ---------------------------------------- 0.0/83.0 kB ? eta -:--:--\n",
      "   ---------------------------------------- 0.0/83.0 kB ? eta -:--:--\n",
      "   ---------------------------------------- 0.0/83.0 kB ? eta -:--:--\n",
      "   ---------------------------------------- 0.0/83.0 kB ? eta -:--:--\n",
      "   ---------------------------------------- 0.0/83.0 kB ? eta -:--:--\n",
      "   ---------------------------------------- 0.0/83.0 kB ? eta -:--:--\n",
      "   ---------------------------------------- 0.0/83.0 kB ? eta -:--:--\n",
      "   ---------------------------------------- 0.0/83.0 kB ? eta -:--:--\n",
      "   ---- ----------------------------------- 10.2/83.0 kB ? eta -:--:--\n",
      "   ---- ----------------------------------- 10.2/83.0 kB ? eta -:--:--\n",
      "   ---- ----------------------------------- 10.2/83.0 kB ? eta -:--:--\n",
      "   ---- ----------------------------------- 10.2/83.0 kB ? eta -:--:--\n",
      "   ---- ----------------------------------- 10.2/83.0 kB ? eta -:--:--\n",
      "   ---- ----------------------------------- 10.2/83.0 kB ? eta -:--:--\n",
      "   ---- ----------------------------------- 10.2/83.0 kB ? eta -:--:--\n",
      "   ---- ----------------------------------- 10.2/83.0 kB ? eta -:--:--\n",
      "   ---- ----------------------------------- 10.2/83.0 kB ? eta -:--:--\n",
      "   ---- ----------------------------------- 10.2/83.0 kB ? eta -:--:--\n",
      "   -------------- ------------------------- 30.7/83.0 kB 39.8 kB/s eta 0:00:02\n",
      "   -------------- ------------------------- 30.7/83.0 kB 39.8 kB/s eta 0:00:02\n",
      "   -------------- ------------------------- 30.7/83.0 kB 39.8 kB/s eta 0:00:02\n",
      "   -------------- ------------------------- 30.7/83.0 kB 39.8 kB/s eta 0:00:02\n",
      "   -------------- ------------------------- 30.7/83.0 kB 39.8 kB/s eta 0:00:02\n",
      "   -------------- ------------------------- 30.7/83.0 kB 39.8 kB/s eta 0:00:02\n",
      "   -------------- ------------------------- 30.7/83.0 kB 39.8 kB/s eta 0:00:02\n",
      "   -------------- ------------------------- 30.7/83.0 kB 39.8 kB/s eta 0:00:02\n",
      "   -------------- ------------------------- 30.7/83.0 kB 39.8 kB/s eta 0:00:02\n",
      "   -------------- ------------------------- 30.7/83.0 kB 39.8 kB/s eta 0:00:02\n",
      "   -------------- ------------------------- 30.7/83.0 kB 39.8 kB/s eta 0:00:02\n",
      "   -------------- ------------------------- 30.7/83.0 kB 39.8 kB/s eta 0:00:02\n",
      "   -------------- ------------------------- 30.7/83.0 kB 39.8 kB/s eta 0:00:02\n",
      "   ------------------- -------------------- 41.0/83.0 kB 26.9 kB/s eta 0:00:02\n",
      "   ------------------- -------------------- 41.0/83.0 kB 26.9 kB/s eta 0:00:02\n",
      "   ------------------- -------------------- 41.0/83.0 kB 26.9 kB/s eta 0:00:02\n",
      "   ------------------- -------------------- 41.0/83.0 kB 26.9 kB/s eta 0:00:02\n",
      "   ------------------- -------------------- 41.0/83.0 kB 26.9 kB/s eta 0:00:02\n",
      "   ------------------- -------------------- 41.0/83.0 kB 26.9 kB/s eta 0:00:02\n",
      "   ------------------- -------------------- 41.0/83.0 kB 26.9 kB/s eta 0:00:02\n",
      "   ------------------- -------------------- 41.0/83.0 kB 26.9 kB/s eta 0:00:02\n",
      "   ----------------------------- ---------- 61.4/83.0 kB 33.1 kB/s eta 0:00:01\n",
      "   ----------------------------- ---------- 61.4/83.0 kB 33.1 kB/s eta 0:00:01\n",
      "   ----------------------------- ---------- 61.4/83.0 kB 33.1 kB/s eta 0:00:01\n",
      "   ----------------------------- ---------- 61.4/83.0 kB 33.1 kB/s eta 0:00:01\n",
      "   ----------------------------- ---------- 61.4/83.0 kB 33.1 kB/s eta 0:00:01\n",
      "   ----------------------------- ---------- 61.4/83.0 kB 33.1 kB/s eta 0:00:01\n",
      "   ----------------------------- ---------- 61.4/83.0 kB 33.1 kB/s eta 0:00:01\n",
      "   ----------------------------- ---------- 61.4/83.0 kB 33.1 kB/s eta 0:00:01\n",
      "   ----------------------------- ---------- 61.4/83.0 kB 33.1 kB/s eta 0:00:01\n",
      "   ----------------------------- ---------- 61.4/83.0 kB 33.1 kB/s eta 0:00:01\n",
      "   ----------------------------- ---------- 61.4/83.0 kB 33.1 kB/s eta 0:00:01\n",
      "   ---------------------------------------- 83.0/83.0 kB 34.8 kB/s eta 0:00:00\n",
      "Installing collected packages: watchdog\n",
      "  Attempting uninstall: watchdog\n",
      "    Found existing installation: watchdog 2.1.6\n",
      "    Uninstalling watchdog-2.1.6:\n",
      "      Successfully uninstalled watchdog-2.1.6\n",
      "Successfully installed watchdog-4.0.1\n",
      "Note: you may need to restart the kernel to use updated packages.\n"
     ]
    },
    {
     "name": "stderr",
     "output_type": "stream",
     "text": [
      "WARNING: Retrying (Retry(total=4, connect=None, read=None, redirect=None, status=None)) after connection broken by 'ReadTimeoutError(\"HTTPSConnectionPool(host='pypi.org', port=443): Read timed out. (read timeout=15)\")': /simple/watchdog/\n",
      "WARNING: Retrying (Retry(total=3, connect=None, read=None, redirect=None, status=None)) after connection broken by 'ReadTimeoutError(\"HTTPSConnectionPool(host='pypi.org', port=443): Read timed out. (read timeout=15)\")': /simple/watchdog/\n"
     ]
    }
   ],
   "source": [
    "pip install --upgrade watchdog"
   ]
  },
  {
   "cell_type": "code",
   "execution_count": null,
   "id": "6550c795",
   "metadata": {},
   "outputs": [],
   "source": [
    "pip uninstall watchdog"
   ]
  },
  {
   "cell_type": "code",
   "execution_count": null,
   "id": "712f0984",
   "metadata": {},
   "outputs": [],
   "source": [
    "pip install watchdog"
   ]
  },
  {
   "cell_type": "code",
   "execution_count": 1,
   "id": "1759c490",
   "metadata": {},
   "outputs": [
    {
     "ename": "ModuleNotFoundError",
     "evalue": "No module named 'request'",
     "output_type": "error",
     "traceback": [
      "\u001b[1;31m---------------------------------------------------------------------------\u001b[0m",
      "\u001b[1;31mModuleNotFoundError\u001b[0m                       Traceback (most recent call last)",
      "Cell \u001b[1;32mIn[1], line 1\u001b[0m\n\u001b[1;32m----> 1\u001b[0m \u001b[38;5;28;01mimport\u001b[39;00m \u001b[38;5;21;01mrequest\u001b[39;00m\n",
      "\u001b[1;31mModuleNotFoundError\u001b[0m: No module named 'request'"
     ]
    }
   ],
   "source": [
    "import request"
   ]
  }
 ],
 "metadata": {
  "kernelspec": {
   "display_name": "Python 3 (ipykernel)",
   "language": "python",
   "name": "python3"
  },
  "language_info": {
   "codemirror_mode": {
    "name": "ipython",
    "version": 3
   },
   "file_extension": ".py",
   "mimetype": "text/x-python",
   "name": "python",
   "nbconvert_exporter": "python",
   "pygments_lexer": "ipython3",
   "version": "3.11.4"
  }
 },
 "nbformat": 4,
 "nbformat_minor": 5
}
